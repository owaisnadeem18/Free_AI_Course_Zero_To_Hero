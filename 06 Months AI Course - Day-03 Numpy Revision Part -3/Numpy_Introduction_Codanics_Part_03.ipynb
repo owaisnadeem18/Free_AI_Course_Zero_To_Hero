{
  "nbformat": 4,
  "nbformat_minor": 0,
  "metadata": {
    "colab": {
      "provenance": []
    },
    "kernelspec": {
      "name": "python3",
      "display_name": "Python 3"
    },
    "language_info": {
      "name": "python"
    }
  },
  "cells": [
    {
      "cell_type": "markdown",
      "source": [
        "# NumPy Indexing & Slicing"
      ],
      "metadata": {
        "id": "diltgnZsizbn"
      }
    },
    {
      "cell_type": "code",
      "execution_count": 1,
      "metadata": {
        "id": "V7dgtLvfiff8"
      },
      "outputs": [],
      "source": [
        "import numpy as np"
      ]
    },
    {
      "cell_type": "code",
      "source": [
        "arr = np.arange(4)\n",
        "# print(arr)\n",
        "arr\n",
        "\n",
        "# we have printed an array here\n"
      ],
      "metadata": {
        "colab": {
          "base_uri": "https://localhost:8080/"
        },
        "id": "afJyctqCi67X",
        "outputId": "cfe4a193-260d-4358-b990-36ac9ba9b803"
      },
      "execution_count": 4,
      "outputs": [
        {
          "output_type": "execute_result",
          "data": {
            "text/plain": [
              "array([0, 1, 2, 3])"
            ]
          },
          "metadata": {},
          "execution_count": 4
        }
      ]
    },
    {
      "cell_type": "code",
      "source": [
        "# If I want to index them .\n",
        "\n",
        "array = np.arange(1 , 12 , 2)\n",
        "print(array)\n",
        "array[3]"
      ],
      "metadata": {
        "colab": {
          "base_uri": "https://localhost:8080/"
        },
        "id": "8vPLBbOakH4W",
        "outputId": "177d8cb9-59d6-4842-b517-8e53a897ebe8"
      },
      "execution_count": 14,
      "outputs": [
        {
          "output_type": "stream",
          "name": "stdout",
          "text": [
            "[ 1  3  5  7  9 11]\n"
          ]
        },
        {
          "output_type": "execute_result",
          "data": {
            "text/plain": [
              "7"
            ]
          },
          "metadata": {},
          "execution_count": 14
        }
      ]
    },
    {
      "cell_type": "code",
      "source": [
        "c = array.reshape(2,3)\n",
        "c # I have reshaped an array into 2D"
      ],
      "metadata": {
        "colab": {
          "base_uri": "https://localhost:8080/"
        },
        "id": "6mNvqvLDkF25",
        "outputId": "58ce53ba-270b-4929-de08-44fa2b2d3d5a"
      },
      "execution_count": 16,
      "outputs": [
        {
          "output_type": "execute_result",
          "data": {
            "text/plain": [
              "array([[ 1,  3,  5],\n",
              "       [ 7,  9, 11]])"
            ]
          },
          "metadata": {},
          "execution_count": 16
        }
      ]
    },
    {
      "cell_type": "code",
      "source": [
        "d = array.reshape(3,2)\n",
        "d # The array has been reshaped , into 2 columns and 3 rows"
      ],
      "metadata": {
        "colab": {
          "base_uri": "https://localhost:8080/"
        },
        "id": "_0oxKwMmlMwd",
        "outputId": "b956e501-68a7-4475-e553-5b5bc831e129"
      },
      "execution_count": 17,
      "outputs": [
        {
          "output_type": "execute_result",
          "data": {
            "text/plain": [
              "array([[ 1,  3],\n",
              "       [ 5,  7],\n",
              "       [ 9, 11]])"
            ]
          },
          "metadata": {},
          "execution_count": 17
        }
      ]
    },
    {
      "cell_type": "code",
      "source": [
        "d[2]\n",
        "d[0]"
      ],
      "metadata": {
        "colab": {
          "base_uri": "https://localhost:8080/"
        },
        "id": "f7dat7--l-3c",
        "outputId": "668714aa-589b-4277-ee18-f9adde058cbe"
      },
      "execution_count": 19,
      "outputs": [
        {
          "output_type": "execute_result",
          "data": {
            "text/plain": [
              "array([1, 3])"
            ]
          },
          "metadata": {},
          "execution_count": 19
        }
      ]
    },
    {
      "cell_type": "code",
      "source": [
        "# If I want to print some specific quantity elements from myarray , then I will code like this:\n",
        "\n",
        "a = np.arange(0,8)\n",
        "print(\"complete Array = \" , a)\n",
        "print(\"The array elements smaller than 2 are\" ,a[a<2])"
      ],
      "metadata": {
        "colab": {
          "base_uri": "https://localhost:8080/"
        },
        "id": "V9L_hAbgmNPt",
        "outputId": "9b5ad0d7-aa8a-41ff-e169-46982d7492c2"
      },
      "execution_count": 27,
      "outputs": [
        {
          "output_type": "stream",
          "name": "stdout",
          "text": [
            "complete Array =  [0 1 2 3 4 5 6 7]\n",
            "The array elements smaller than 2 are [0 1]\n"
          ]
        }
      ]
    },
    {
      "cell_type": "code",
      "source": [
        "# We have also discussed about arithmetic and logical operators in detail"
      ],
      "metadata": {
        "id": "gy5C8JR2nU0B"
      },
      "execution_count": null,
      "outputs": []
    },
    {
      "cell_type": "code",
      "source": [
        "# AND TILL YET WE HAVE DISCUSSED IN DETAIL ABOUT INDEXING AND SLICING OF NUMPY ARRAYS"
      ],
      "metadata": {
        "id": "1YxSt3hznybU"
      },
      "execution_count": null,
      "outputs": []
    }
  ]
}