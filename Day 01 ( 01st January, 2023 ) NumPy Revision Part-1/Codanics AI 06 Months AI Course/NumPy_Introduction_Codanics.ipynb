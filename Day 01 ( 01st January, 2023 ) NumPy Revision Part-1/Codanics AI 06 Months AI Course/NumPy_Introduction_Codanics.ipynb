{
  "nbformat": 4,
  "nbformat_minor": 0,
  "metadata": {
    "colab": {
      "provenance": []
    },
    "kernelspec": {
      "name": "python3",
      "display_name": "Python 3"
    },
    "language_info": {
      "name": "python"
    }
  },
  "cells": [
    {
      "cell_type": "code",
      "execution_count": 2,
      "metadata": {
        "id": "f67A2G8ufeVj"
      },
      "outputs": [],
      "source": [
        "# NumPy In Detail :\n",
        "\n",
        "# What actually is Array: An Array is a data structure , which is used to store different data types variables in a single variable collectively\n",
        "# In our Numpy , we use Array just for the sake of data analysis , machine learning and to save different data in python\n",
        "# NumPy is an abbreviation of Numerical Python"
      ]
    },
    {
      "cell_type": "code",
      "source": [
        "# Importing the Library\n",
        "\n",
        "import numpy as np\n",
        "import warnings\n",
        "warnings.filterwarnings('ignore')"
      ],
      "metadata": {
        "id": "j1PU62R6hlmV"
      },
      "execution_count": 31,
      "outputs": []
    },
    {
      "cell_type": "code",
      "source": [
        "# np.arange(6)\n",
        "a = np.arange(9)\n",
        "print(a)\n",
        "\n",
        "# Here we can say that it is one dimensional array.\n",
        "\n",
        "# If I want to print the dimensions then:\n",
        "a.shape # Here, we have to say that , there are no rows or columns are present , it is only called as (values) Like , we will say that there are 09 values in this array\n",
        "# Always keep it in your mind that we can't count the rows and columns when the array is one dimensional"
      ],
      "metadata": {
        "colab": {
          "base_uri": "https://localhost:8080/"
        },
        "id": "dxuLBeNdhspM",
        "outputId": "e8a95c41-ad1d-4ea5-84eb-efc38d7dd440"
      },
      "execution_count": 15,
      "outputs": [
        {
          "output_type": "stream",
          "name": "stdout",
          "text": [
            "[0 1 2 3 4 5 6 7 8]\n"
          ]
        },
        {
          "output_type": "execute_result",
          "data": {
            "text/plain": [
              "(9,)"
            ]
          },
          "metadata": {},
          "execution_count": 15
        }
      ]
    },
    {
      "cell_type": "code",
      "source": [
        "a2 = a[np.newaxis, :]\n",
        "print(a2)\n",
        "\n",
        "# Here we can say that it is two dimensional array"
      ],
      "metadata": {
        "colab": {
          "base_uri": "https://localhost:8080/"
        },
        "id": "Ab5Fpp6yiOwM",
        "outputId": "99a751b3-eb07-43bb-d96f-88c387f3c1d6"
      },
      "execution_count": 13,
      "outputs": [
        {
          "output_type": "stream",
          "name": "stdout",
          "text": [
            "[[0 1 2 3 4 5 6 7 8]]\n"
          ]
        }
      ]
    },
    {
      "cell_type": "code",
      "source": [
        "a_ = a[ np.newaxis, : ]\n",
        "print(a_)"
      ],
      "metadata": {
        "colab": {
          "base_uri": "https://localhost:8080/"
        },
        "id": "WIKMpmVsj4P2",
        "outputId": "43b56f64-7850-493e-a648-08b2d465f708"
      },
      "execution_count": 22,
      "outputs": [
        {
          "output_type": "stream",
          "name": "stdout",
          "text": [
            "[[0 1 2 3 4 5 6 7 8]]\n"
          ]
        }
      ]
    },
    {
      "cell_type": "code",
      "source": [
        "a3 = a_[np.newaxis , : ]\n",
        "print(a3) # 3 dimensions array"
      ],
      "metadata": {
        "colab": {
          "base_uri": "https://localhost:8080/"
        },
        "id": "YnbTpmi0kd-6",
        "outputId": "cab7d08d-c7b9-423e-bb0a-fa1496df3a06"
      },
      "execution_count": 24,
      "outputs": [
        {
          "output_type": "stream",
          "name": "stdout",
          "text": [
            "[[[0 1 2 3 4 5 6 7 8]]]\n"
          ]
        }
      ]
    },
    {
      "cell_type": "code",
      "source": [
        "# # Assignment Question: Why do we use 1D , 2D and 3D arrays in NumPy\n",
        "\n",
        "# 1. **1D Arrays:**\n",
        "#    - **Use:** Think of it like a list of numbers. When you just have a single line of data, like a series of temperatures or scores, a 1D array is handy.\n",
        "#    - **Example:** `[1, 2, 3, 4, 5]`\n",
        "\n",
        "# 2. **2D Arrays:**\n",
        "#    - **Use:** Imagine a grid or a table. When your data needs rows and columns, like a spreadsheet or a chessboard, 2D arrays come in. It's like having several lists arranged in a grid.\n",
        "#    - **Example:**\n",
        "#      ```\n",
        "#      [[1, 2, 3],\n",
        "#       [4, 5, 6],\n",
        "#       [7, 8, 9]]\n",
        "#      ```\n",
        "\n",
        "# 3. **3D Arrays:**\n",
        "#    - **Use:** If you need to organize data in a cube or a stack of tables, that's where 3D arrays shine. It's like having multiple spreadsheets, each with rows and columns, and stacking them up.\n",
        "#    - **Example:**\n",
        "#      ```\n",
        "#      [[[1, 2, 3],\n",
        "#        [4, 5, 6]],\n",
        "\n",
        "#       [[7, 8, 9],\n",
        "#        [10, 11, 12]],\n",
        "\n",
        "#       [[13, 14, 15],\n",
        "#        [16, 17, 18]]]\n",
        "#      ```\n",
        "\n",
        "# In a nutshell, 1D is like a line, 2D is like a table, and 3D is like a stack of tables. Different shapes for different types of data! NumPy allows us to work with these arrays efficiently in Python."
      ],
      "metadata": {
        "id": "8EHpLxdXk-iU"
      },
      "execution_count": null,
      "outputs": []
    },
    {
      "cell_type": "markdown",
      "source": [
        "# Creating Arrays With NumPy:\n",
        "\n",
        "**Let's start creating 1D , 2D or 3D Arrays in Python NumPy**\n"
      ],
      "metadata": {
        "id": "NzJAbqSEmSV5"
      }
    },
    {
      "cell_type": "code",
      "source": [
        "arr = np.array([3,4,5,6])\n",
        "print(arr)"
      ],
      "metadata": {
        "colab": {
          "base_uri": "https://localhost:8080/"
        },
        "id": "zF_rutvRmjji",
        "outputId": "1784ed5d-f485-4302-fc96-b67ce2df8d70"
      },
      "execution_count": 25,
      "outputs": [
        {
          "output_type": "stream",
          "name": "stdout",
          "text": [
            "[3 4 5 6]\n"
          ]
        }
      ]
    },
    {
      "cell_type": "code",
      "source": [
        "arr_two_dimension = np.array([(3,4,5,6) , (9 , 3 , 2 ,1 ),  (9 , 3 , 2 ,1 ) , (9 , 3 , 2 ,1 )])\n",
        "# print(arr_two_dimension)\n",
        "\n",
        "# Now if I wanna check the dimensions of 1D & 2D Array , then we will just look at the following method\n",
        "\n",
        "arr.shape"
      ],
      "metadata": {
        "colab": {
          "base_uri": "https://localhost:8080/"
        },
        "id": "HiCJq0RcmyFT",
        "outputId": "5463566d-5602-4bb5-ebde-c589a0612985"
      },
      "execution_count": 39,
      "outputs": [
        {
          "output_type": "execute_result",
          "data": {
            "text/plain": [
              "(4,)"
            ]
          },
          "metadata": {},
          "execution_count": 39
        }
      ]
    },
    {
      "cell_type": "code",
      "source": [
        "arr_two_dimension.shape # There are 04 rows and 04 columns which are here in our two dimension array"
      ],
      "metadata": {
        "colab": {
          "base_uri": "https://localhost:8080/"
        },
        "id": "9lZJ6yPsn5Ls",
        "outputId": "df7fdb20-5457-4af1-ee16-e5c75ea2cdb8"
      },
      "execution_count": 40,
      "outputs": [
        {
          "output_type": "execute_result",
          "data": {
            "text/plain": [
              "(4, 4)"
            ]
          },
          "metadata": {},
          "execution_count": 40
        }
      ]
    },
    {
      "cell_type": "code",
      "source": [
        "print (arr)\n",
        "arr.shape"
      ],
      "metadata": {
        "colab": {
          "base_uri": "https://localhost:8080/"
        },
        "id": "Jl62aL8lpB7p",
        "outputId": "1a4739df-6468-45d7-bf8a-32253be590fb"
      },
      "execution_count": 41,
      "outputs": [
        {
          "output_type": "stream",
          "name": "stdout",
          "text": [
            "[3 4 5 6]\n"
          ]
        },
        {
          "output_type": "execute_result",
          "data": {
            "text/plain": [
              "(4,)"
            ]
          },
          "metadata": {},
          "execution_count": 41
        }
      ]
    },
    {
      "cell_type": "code",
      "source": [
        "print(arr_two_dimension)\n",
        "arr_two_dimension.shape\n"
      ],
      "metadata": {
        "colab": {
          "base_uri": "https://localhost:8080/"
        },
        "id": "ttGsQMkopLF7",
        "outputId": "9b6e6af6-1e03-4b2d-f7e7-6d6d19249153"
      },
      "execution_count": 42,
      "outputs": [
        {
          "output_type": "stream",
          "name": "stdout",
          "text": [
            "[[3 4 5 6]\n",
            " [9 3 2 1]\n",
            " [9 3 2 1]\n",
            " [9 3 2 1]]\n"
          ]
        },
        {
          "output_type": "execute_result",
          "data": {
            "text/plain": [
              "(4, 4)"
            ]
          },
          "metadata": {},
          "execution_count": 42
        }
      ]
    },
    {
      "cell_type": "markdown",
      "source": [
        "# Initialize Arrays:\n"
      ],
      "metadata": {
        "id": "1iyhS5vGpspy"
      }
    },
    {
      "cell_type": "code",
      "source": [
        "zeros = np.zeros((1,5)) # (rows , column)\n",
        "zeros # There are 05 rows and 01 columns present here in our output"
      ],
      "metadata": {
        "colab": {
          "base_uri": "https://localhost:8080/"
        },
        "id": "Gab-UNONpynb",
        "outputId": "d879dcad-1acd-4354-9fba-9a0af0658d3a"
      },
      "execution_count": 51,
      "outputs": [
        {
          "output_type": "execute_result",
          "data": {
            "text/plain": [
              "array([[0., 0., 0., 0., 0.]])"
            ]
          },
          "metadata": {},
          "execution_count": 51
        }
      ]
    },
    {
      "cell_type": "code",
      "source": [
        "# If you want to see one , then you will write\n",
        "\n",
        "ones = np.ones((5, 4))\n",
        "ones"
      ],
      "metadata": {
        "colab": {
          "base_uri": "https://localhost:8080/"
        },
        "id": "Lmb2eofEqiUE",
        "outputId": "b81150c8-dde5-4651-b7f5-d7d0d6636af2"
      },
      "execution_count": 52,
      "outputs": [
        {
          "output_type": "execute_result",
          "data": {
            "text/plain": [
              "array([[1., 1., 1., 1.],\n",
              "       [1., 1., 1., 1.],\n",
              "       [1., 1., 1., 1.],\n",
              "       [1., 1., 1., 1.],\n",
              "       [1., 1., 1., 1.]])"
            ]
          },
          "metadata": {},
          "execution_count": 52
        }
      ]
    },
    {
      "cell_type": "code",
      "source": [
        "# Note: If you ever wanna fill your array values with different numbers , then you can write the syntax as\n",
        "\n",
        "full = np.full((4,6) , 9 ) # 09 was my desired number and we have filled this array with this number as per my desire\n",
        "full"
      ],
      "metadata": {
        "colab": {
          "base_uri": "https://localhost:8080/"
        },
        "id": "zQUA4hy4q0_d",
        "outputId": "9e045fc8-9c91-418d-c5de-1a5c469ee0cb"
      },
      "execution_count": 56,
      "outputs": [
        {
          "output_type": "execute_result",
          "data": {
            "text/plain": [
              "array([[9, 9, 9, 9, 9, 9],\n",
              "       [9, 9, 9, 9, 9, 9],\n",
              "       [9, 9, 9, 9, 9, 9],\n",
              "       [9, 9, 9, 9, 9, 9]])"
            ]
          },
          "metadata": {},
          "execution_count": 56
        }
      ]
    },
    {
      "cell_type": "code",
      "source": [
        "# Making an identity matrix\n",
        "identity = np.eye(8) # this is the identity matrix here we can see that there are total 08 rows and 08 columns\n",
        "identity"
      ],
      "metadata": {
        "colab": {
          "base_uri": "https://localhost:8080/"
        },
        "id": "996snOk2rp9I",
        "outputId": "1eb95aaf-d270-4e07-9014-73fd0f8edda4"
      },
      "execution_count": 61,
      "outputs": [
        {
          "output_type": "execute_result",
          "data": {
            "text/plain": [
              "array([[1., 0., 0., 0., 0., 0., 0., 0.],\n",
              "       [0., 1., 0., 0., 0., 0., 0., 0.],\n",
              "       [0., 0., 1., 0., 0., 0., 0., 0.],\n",
              "       [0., 0., 0., 1., 0., 0., 0., 0.],\n",
              "       [0., 0., 0., 0., 1., 0., 0., 0.],\n",
              "       [0., 0., 0., 0., 0., 1., 0., 0.],\n",
              "       [0., 0., 0., 0., 0., 0., 1., 0.],\n",
              "       [0., 0., 0., 0., 0., 0., 0., 1.]])"
            ]
          },
          "metadata": {},
          "execution_count": 61
        }
      ]
    },
    {
      "cell_type": "code",
      "source": [
        "# Note:\n",
        "\n",
        "a.type # It will tell me about the data\n",
        "a.dtype #It will tell me about the data type of (a)"
      ],
      "metadata": {
        "id": "u8qzbGrGsnFy"
      },
      "execution_count": null,
      "outputs": []
    },
    {
      "cell_type": "markdown",
      "source": [
        "# Array Attributes"
      ],
      "metadata": {
        "id": "eu9nXRINtAIo"
      }
    },
    {
      "cell_type": "code",
      "source": [
        "# It gives us the dimension of an array\n",
        "\n",
        "a.ndim\n"
      ],
      "metadata": {
        "colab": {
          "base_uri": "https://localhost:8080/"
        },
        "id": "3vzzC8d_uxDz",
        "outputId": "2001a6b7-2aed-4092-c3cd-6a0adb204733"
      },
      "execution_count": 70,
      "outputs": [
        {
          "output_type": "execute_result",
          "data": {
            "text/plain": [
              "1"
            ]
          },
          "metadata": {},
          "execution_count": 70
        }
      ]
    },
    {
      "cell_type": "code",
      "source": [
        "# It gives us the length of array elements in an array\n",
        "\n",
        "len(a)\n"
      ],
      "metadata": {
        "colab": {
          "base_uri": "https://localhost:8080/"
        },
        "id": "LiydboVZufPC",
        "outputId": "f4bc8ec8-5cef-4ba1-a4b8-e6193a77442a"
      },
      "execution_count": 69,
      "outputs": [
        {
          "output_type": "execute_result",
          "data": {
            "text/plain": [
              "9"
            ]
          },
          "metadata": {},
          "execution_count": 69
        }
      ]
    },
    {
      "cell_type": "code",
      "source": [
        "# You can find out the rows and columns of your array:\n",
        "\n",
        "a.shape\n"
      ],
      "metadata": {
        "colab": {
          "base_uri": "https://localhost:8080/"
        },
        "id": "Sv5EqeuetTsf",
        "outputId": "d548bd26-066e-4954-ddeb-2745f73f98bf"
      },
      "execution_count": 63,
      "outputs": [
        {
          "output_type": "execute_result",
          "data": {
            "text/plain": [
              "(9,)"
            ]
          },
          "metadata": {},
          "execution_count": 63
        }
      ]
    },
    {
      "cell_type": "code",
      "source": [
        "a.size # It gives us the number of elements in an array"
      ],
      "metadata": {
        "colab": {
          "base_uri": "https://localhost:8080/"
        },
        "id": "nYbivWvPuPJx",
        "outputId": "b777507c-4d37-4e2c-840f-460963092151"
      },
      "execution_count": 68,
      "outputs": [
        {
          "output_type": "execute_result",
          "data": {
            "text/plain": [
              "9"
            ]
          },
          "metadata": {},
          "execution_count": 68
        }
      ]
    },
    {
      "cell_type": "markdown",
      "source": [
        "# Bais Operations of an Array"
      ],
      "metadata": {
        "id": "C6rUegXWvQ_V"
      }
    },
    {
      "cell_type": "code",
      "source": [
        "a"
      ],
      "metadata": {
        "colab": {
          "base_uri": "https://localhost:8080/"
        },
        "id": "Cog-MQ6OvTSW",
        "outputId": "b4f8c80b-2e1d-4f71-ba3f-923eb9b4afe1"
      },
      "execution_count": 71,
      "outputs": [
        {
          "output_type": "execute_result",
          "data": {
            "text/plain": [
              "array([0, 1, 2, 3, 4, 5, 6, 7, 8])"
            ]
          },
          "metadata": {},
          "execution_count": 71
        }
      ]
    },
    {
      "cell_type": "code",
      "source": [
        "b = np.arange(9)\n",
        "\n",
        "b"
      ],
      "metadata": {
        "colab": {
          "base_uri": "https://localhost:8080/"
        },
        "id": "xIsAqKbNvYXU",
        "outputId": "8a8902de-1c42-44e7-e5f7-a3b3865a0e4d"
      },
      "execution_count": 84,
      "outputs": [
        {
          "output_type": "execute_result",
          "data": {
            "text/plain": [
              "array([0, 1, 2, 3, 4, 5, 6, 7, 8])"
            ]
          },
          "metadata": {},
          "execution_count": 84
        }
      ]
    },
    {
      "cell_type": "code",
      "source": [
        "operation = a + b\n",
        "operation"
      ],
      "metadata": {
        "colab": {
          "base_uri": "https://localhost:8080/"
        },
        "id": "EdZJf0L2v4xv",
        "outputId": "e1710d1a-3d78-42da-974b-de0fdc53cee5"
      },
      "execution_count": 86,
      "outputs": [
        {
          "output_type": "execute_result",
          "data": {
            "text/plain": [
              "array([ 0,  2,  4,  6,  8, 10, 12, 14, 16])"
            ]
          },
          "metadata": {},
          "execution_count": 86
        }
      ]
    },
    {
      "cell_type": "code",
      "source": [
        "print ( \"The array 'a' is =  \", a)\n",
        "print ( \"The array 'b' is =  \", b)\n"
      ],
      "metadata": {
        "colab": {
          "base_uri": "https://localhost:8080/"
        },
        "id": "eUHs4N8wxiAu",
        "outputId": "d6c2b12e-4ed1-48fe-c270-4d98803ff93f"
      },
      "execution_count": 95,
      "outputs": [
        {
          "output_type": "stream",
          "name": "stdout",
          "text": [
            "The array 'a' is =   [0 1 2 3 4 5 6 7 8]\n",
            "The array 'b' is =   [0 1 2 3 4 5 6 7 8]\n"
          ]
        }
      ]
    },
    {
      "cell_type": "code",
      "source": [
        "# There is another method of adding two arrays using NumPy\n",
        "\n",
        "operation = np.add(a,b)\n",
        "operation"
      ],
      "metadata": {
        "colab": {
          "base_uri": "https://localhost:8080/"
        },
        "id": "z4c3cmHIwXwX",
        "outputId": "ec054f5c-ddee-45b1-8793-0124b8c6a324"
      },
      "execution_count": 89,
      "outputs": [
        {
          "output_type": "execute_result",
          "data": {
            "text/plain": [
              "array([ 0,  2,  4,  6,  8, 10, 12, 14, 16])"
            ]
          },
          "metadata": {},
          "execution_count": 89
        }
      ]
    },
    {
      "cell_type": "code",
      "source": [
        "print ( \"The array 'a' is =  \", a)\n",
        "print ( \"The array 'b' is =  \", b)\n"
      ],
      "metadata": {
        "colab": {
          "base_uri": "https://localhost:8080/"
        },
        "id": "qykrZsHXxeN0",
        "outputId": "13e8543c-0681-4cc3-b154-d0a6eef73266"
      },
      "execution_count": 94,
      "outputs": [
        {
          "output_type": "stream",
          "name": "stdout",
          "text": [
            "The array 'a' is =   [0 1 2 3 4 5 6 7 8]\n",
            "The array 'b' is =   [0 1 2 3 4 5 6 7 8]\n"
          ]
        }
      ]
    },
    {
      "cell_type": "code",
      "source": [
        "# For Subtraction:\n",
        "\n",
        "minus = np.subtract(a, b) # Through this we can subtract\n",
        "minus"
      ],
      "metadata": {
        "colab": {
          "base_uri": "https://localhost:8080/"
        },
        "id": "_RSOqyR3w15r",
        "outputId": "28554909-62a9-405b-a166-5caf51ed497d"
      },
      "execution_count": 90,
      "outputs": [
        {
          "output_type": "execute_result",
          "data": {
            "text/plain": [
              "array([0, 0, 0, 0, 0, 0, 0, 0, 0])"
            ]
          },
          "metadata": {},
          "execution_count": 90
        }
      ]
    },
    {
      "cell_type": "code",
      "source": [
        "print ( \"The array 'a' is =  \", a)\n",
        "print ( \"The array 'b' is =  \", b)\n"
      ],
      "metadata": {
        "colab": {
          "base_uri": "https://localhost:8080/"
        },
        "id": "4pFO2zMmxRj-",
        "outputId": "888c3b10-6aae-45fb-e440-64fc593df5a2"
      },
      "execution_count": 93,
      "outputs": [
        {
          "output_type": "stream",
          "name": "stdout",
          "text": [
            "The array 'a' is =   [0 1 2 3 4 5 6 7 8]\n",
            "The array 'b' is =   [0 1 2 3 4 5 6 7 8]\n"
          ]
        }
      ]
    },
    {
      "cell_type": "code",
      "source": [
        "# For Multiplication:\n",
        "\n",
        "Multiply = np.multiply(a, b) # Through this we can subtract\n",
        "Multiply"
      ],
      "metadata": {
        "colab": {
          "base_uri": "https://localhost:8080/"
        },
        "id": "mfn7ZydzxMQi",
        "outputId": "8221be74-5f3e-410a-c919-b42dadd3b2a4"
      },
      "execution_count": 98,
      "outputs": [
        {
          "output_type": "execute_result",
          "data": {
            "text/plain": [
              "array([ 0,  1,  4,  9, 16, 25, 36, 49, 64])"
            ]
          },
          "metadata": {},
          "execution_count": 98
        }
      ]
    },
    {
      "cell_type": "code",
      "source": [
        "# For Divisioon:\n",
        "\n",
        "division = np.divide(a, b) # Through this we can subtract\n",
        "division"
      ],
      "metadata": {
        "colab": {
          "base_uri": "https://localhost:8080/"
        },
        "id": "9nV_jDaPxkMw",
        "outputId": "332be0dc-95de-4e13-ba9e-b6069702cb3d"
      },
      "execution_count": 97,
      "outputs": [
        {
          "output_type": "execute_result",
          "data": {
            "text/plain": [
              "array([nan,  1.,  1.,  1.,  1.,  1.,  1.,  1.,  1.])"
            ]
          },
          "metadata": {},
          "execution_count": 97
        }
      ]
    },
    {
      "cell_type": "code",
      "source": [
        "# If we want to find out the power of any specific numbers in an array , then we can also find it out using:\n",
        "\n",
        "find_power = np.power(4 , 2)\n",
        "find_power"
      ],
      "metadata": {
        "colab": {
          "base_uri": "https://localhost:8080/"
        },
        "id": "FQPjTxh6xy7P",
        "outputId": "1f631e4d-6b7b-4df1-81e9-9d759ac69bd1"
      },
      "execution_count": 99,
      "outputs": [
        {
          "output_type": "execute_result",
          "data": {
            "text/plain": [
              "16"
            ]
          },
          "metadata": {},
          "execution_count": 99
        }
      ]
    },
    {
      "cell_type": "code",
      "source": [
        "print ( \"The array 'a' is =  \", a)\n",
        "print ( \"The array 'b' is =  \", b)\n"
      ],
      "metadata": {
        "colab": {
          "base_uri": "https://localhost:8080/"
        },
        "id": "87W3G876yTlN",
        "outputId": "012b1318-834a-4b94-f8fc-2260dfc14a5f"
      },
      "execution_count": 101,
      "outputs": [
        {
          "output_type": "stream",
          "name": "stdout",
          "text": [
            "The array 'a' is =   [0 1 2 3 4 5 6 7 8]\n",
            "The array 'b' is =   [0 1 2 3 4 5 6 7 8]\n"
          ]
        }
      ]
    },
    {
      "cell_type": "code",
      "source": [
        "# An extra thing , you can also find out the power of an array element using this method:\n",
        "\n",
        "power = 4 ** 4\n",
        "power"
      ],
      "metadata": {
        "colab": {
          "base_uri": "https://localhost:8080/"
        },
        "id": "0KPxyfAVyEPe",
        "outputId": "1aa11ff9-0a87-4f21-b6a3-11c57e44fb38"
      },
      "execution_count": 102,
      "outputs": [
        {
          "output_type": "execute_result",
          "data": {
            "text/plain": [
              "256"
            ]
          },
          "metadata": {},
          "execution_count": 102
        }
      ]
    }
  ]
}