{
  "nbformat": 4,
  "nbformat_minor": 0,
  "metadata": {
    "colab": {
      "provenance": []
    },
    "kernelspec": {
      "name": "python3",
      "display_name": "Python 3"
    },
    "language_info": {
      "name": "python"
    }
  },
  "cells": [
    {
      "cell_type": "markdown",
      "source": [
        "#**Marix Or Matrices in Numpy**"
      ],
      "metadata": {
        "id": "M77pIGDbF6Ye"
      }
    },
    {
      "cell_type": "code",
      "execution_count": null,
      "metadata": {
        "id": "LIT7xtCqDQB_"
      },
      "outputs": [],
      "source": [
        "import numpy as np"
      ]
    },
    {
      "cell_type": "code",
      "source": [
        "# Create a matrix of 2x3 in numpy\n",
        "\n",
        "a = np.array([[4, 5, 2] , [7 ,8 , 9]])\n",
        "a # It is a matrix who has two rows and three columns"
      ],
      "metadata": {
        "colab": {
          "base_uri": "https://localhost:8080/"
        },
        "id": "Yvs5OQPVGLVD",
        "outputId": "ffb7ffa9-ebf5-41b4-b56e-cf7f4e4ff849"
      },
      "execution_count": null,
      "outputs": [
        {
          "output_type": "execute_result",
          "data": {
            "text/plain": [
              "array([[4, 5, 2],\n",
              "       [7, 8, 9]])"
            ]
          },
          "metadata": {},
          "execution_count": 5
        }
      ]
    },
    {
      "cell_type": "code",
      "source": [
        "b = np.arange(0 , 100 ,2 )\n",
        "b # Now all these values are not in matrix\n",
        "b.shape"
      ],
      "metadata": {
        "colab": {
          "base_uri": "https://localhost:8080/"
        },
        "id": "xh87mU3rG5MJ",
        "outputId": "ec1a81a9-ab77-437d-f72a-17e2f1cbd4c2"
      },
      "execution_count": null,
      "outputs": [
        {
          "output_type": "execute_result",
          "data": {
            "text/plain": [
              "(50,)"
            ]
          },
          "metadata": {},
          "execution_count": 17
        }
      ]
    },
    {
      "cell_type": "code",
      "source": [
        "# We can reshape all these indexes , in order to convert it into an array\n",
        "\n",
        "b = b.reshape(10,5)\n",
        "b"
      ],
      "metadata": {
        "colab": {
          "base_uri": "https://localhost:8080/"
        },
        "id": "KqJiClK9H2zr",
        "outputId": "01095d88-ce05-40e8-93da-1e88aedb725a"
      },
      "execution_count": null,
      "outputs": [
        {
          "output_type": "execute_result",
          "data": {
            "text/plain": [
              "array([[ 0,  2,  4,  6,  8],\n",
              "       [10, 12, 14, 16, 18],\n",
              "       [20, 22, 24, 26, 28],\n",
              "       [30, 32, 34, 36, 38],\n",
              "       [40, 42, 44, 46, 48],\n",
              "       [50, 52, 54, 56, 58],\n",
              "       [60, 62, 64, 66, 68],\n",
              "       [70, 72, 74, 76, 78],\n",
              "       [80, 82, 84, 86, 88],\n",
              "       [90, 92, 94, 96, 98]])"
            ]
          },
          "metadata": {},
          "execution_count": 32
        }
      ]
    },
    {
      "cell_type": "markdown",
      "source": [
        "---\n",
        "# Slicing a Matrix using NumPy"
      ],
      "metadata": {
        "id": "e1QnqEu_rY0r"
      }
    },
    {
      "cell_type": "code",
      "source": [
        "# Slicing a matrix of 3x2\n",
        "\n",
        "# b[2:3 , 3:5]\n",
        "\n",
        "b[1:4 , 2:3]"
      ],
      "metadata": {
        "colab": {
          "base_uri": "https://localhost:8080/"
        },
        "id": "NQSTyoJXrmlf",
        "outputId": "4991639e-8c74-442b-c12f-bf280471ffe2"
      },
      "execution_count": null,
      "outputs": [
        {
          "output_type": "execute_result",
          "data": {
            "text/plain": [
              "array([[14],\n",
              "       [24],\n",
              "       [34]])"
            ]
          },
          "metadata": {},
          "execution_count": 40
        }
      ]
    },
    {
      "cell_type": "code",
      "source": [
        "# This code will print all the columns and all the rows\n",
        "\n",
        "c = b[:,:]\n",
        "c"
      ],
      "metadata": {
        "colab": {
          "base_uri": "https://localhost:8080/"
        },
        "id": "ozNJW0equt6k",
        "outputId": "ccd99735-b6fe-41dd-c652-fb96e01db191"
      },
      "execution_count": null,
      "outputs": [
        {
          "output_type": "execute_result",
          "data": {
            "text/plain": [
              "array([[ 0,  2,  4,  6,  8],\n",
              "       [10, 12, 14, 16, 18],\n",
              "       [20, 22, 24, 26, 28],\n",
              "       [30, 32, 34, 36, 38],\n",
              "       [40, 42, 44, 46, 48],\n",
              "       [50, 52, 54, 56, 58],\n",
              "       [60, 62, 64, 66, 68],\n",
              "       [70, 72, 74, 76, 78],\n",
              "       [80, 82, 84, 86, 88],\n",
              "       [90, 92, 94, 96, 98]])"
            ]
          },
          "metadata": {},
          "execution_count": 53
        }
      ]
    },
    {
      "cell_type": "code",
      "source": [
        "# To find the maximum from the matrix\n",
        "\n",
        "c = b.max()\n",
        "print(c)\n",
        "# for minimun\n",
        "minimum = b.min()\n",
        "minimum"
      ],
      "metadata": {
        "colab": {
          "base_uri": "https://localhost:8080/"
        },
        "id": "_pr2tt0Ru9Mz",
        "outputId": "412d1832-c968-4aad-c3b5-b27696c6f7a5"
      },
      "execution_count": null,
      "outputs": [
        {
          "output_type": "stream",
          "name": "stdout",
          "text": [
            "98\n"
          ]
        },
        {
          "output_type": "execute_result",
          "data": {
            "text/plain": [
              "0"
            ]
          },
          "metadata": {},
          "execution_count": 50
        }
      ]
    },
    {
      "cell_type": "code",
      "source": [
        "# to find the sum of whole matrix values\n",
        "\n",
        "sum = c.sum()\n",
        "sum"
      ],
      "metadata": {
        "colab": {
          "base_uri": "https://localhost:8080/"
        },
        "id": "kJHzXyzYvbkt",
        "outputId": "895f3850-3e77-4239-a439-60c710de0538"
      },
      "execution_count": null,
      "outputs": [
        {
          "output_type": "execute_result",
          "data": {
            "text/plain": [
              "2450"
            ]
          },
          "metadata": {},
          "execution_count": 54
        }
      ]
    },
    {
      "cell_type": "code",
      "source": [
        "# note: { axis = 0 } means that we are talking about the row"
      ],
      "metadata": {
        "id": "MNP5zxs-v3PY"
      },
      "execution_count": null,
      "outputs": []
    },
    {
      "cell_type": "code",
      "source": [
        "# note: { axis = 1 } means that we are talking about the column"
      ],
      "metadata": {
        "id": "v2gOVG9ZwLF3"
      },
      "execution_count": null,
      "outputs": []
    }
  ]
}