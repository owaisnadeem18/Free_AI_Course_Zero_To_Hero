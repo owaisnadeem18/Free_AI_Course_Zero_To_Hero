{
  "nbformat": 4,
  "nbformat_minor": 0,
  "metadata": {
    "colab": {
      "provenance": []
    },
    "kernelspec": {
      "name": "python3",
      "display_name": "Python 3"
    },
    "language_info": {
      "name": "python"
    }
  },
  "cells": [
    {
      "cell_type": "code",
      "execution_count": null,
      "metadata": {
        "colab": {
          "base_uri": "https://localhost:8080/"
        },
        "id": "XY9y1hGZL3V1",
        "outputId": "6afd079e-4599-44ad-f26f-2e9587499be3"
      },
      "outputs": [
        {
          "output_type": "stream",
          "name": "stdout",
          "text": [
            "['Apple', 'Mango', 'Oranges']\n"
          ]
        }
      ],
      "source": [
        "# Task :- 01\n",
        "#           Create a list named \"fruits\" containing three different fruits.\n",
        "\n",
        "# Solution of Task :- 01\n",
        "\n",
        "fruits = ['Apple' , 'Mango' , 'Oranges' ]\n",
        "print(fruits)"
      ]
    },
    {
      "cell_type": "code",
      "source": [
        "# Task :- 02\n",
        "#           Create a tuple named \"numbers\" with five random numbers.\n",
        "\n",
        "# Solution of Task :- 02\n",
        "\n",
        "numbers = (56 , 98 , 43 , 67 , 32)\n",
        "print(numbers)"
      ],
      "metadata": {
        "colab": {
          "base_uri": "https://localhost:8080/"
        },
        "id": "O_8P1qNsMrN5",
        "outputId": "a7045cf5-d76f-4012-9467-5491649ff7f3"
      },
      "execution_count": null,
      "outputs": [
        {
          "output_type": "stream",
          "name": "stdout",
          "text": [
            "(56, 98, 43, 67, 32)\n"
          ]
        }
      ]
    },
    {
      "cell_type": "code",
      "source": [
        "# Task :- 03\n",
        "#           Create a set named \"colors\" with three different colors.\n",
        "\n",
        "# Solution of Task :- 03\n",
        "\n",
        "colors = {'Green' , 'Blue' , 'Black'}\n",
        "print(colors)"
      ],
      "metadata": {
        "colab": {
          "base_uri": "https://localhost:8080/"
        },
        "id": "aiAVPiYRNJil",
        "outputId": "ddfc80f6-223f-4553-f2ca-b71fb1770ced"
      },
      "execution_count": null,
      "outputs": [
        {
          "output_type": "stream",
          "name": "stdout",
          "text": [
            "{'Green', 'Blue', 'Black'}\n"
          ]
        }
      ]
    },
    {
      "cell_type": "code",
      "source": [
        "# Task :- 04\n",
        "#           Create a dictionary named \"student\" with the following key-value pairs:\n",
        "#           \"name\" as the key and the student's name as the value.\n",
        "#           \"age\" as the key and the student's age as the value.\n",
        "#           \"grade\" as the key and the student's grade as the value.\n",
        "# Solution of Task :- 04\n",
        "\n",
        "Students = {\n",
        "\n",
        "            'name' : 'Owais Nadeem' ,\n",
        "            'age' : 21 ,\n",
        "            'grade' : 82\n",
        "\n",
        "}\n",
        "\n",
        "print(Students)"
      ],
      "metadata": {
        "colab": {
          "base_uri": "https://localhost:8080/"
        },
        "id": "e7C8cxYINnNj",
        "outputId": "70289d1f-6294-4d7b-cd2d-e52718e049b4"
      },
      "execution_count": null,
      "outputs": [
        {
          "output_type": "stream",
          "name": "stdout",
          "text": [
            "{'name': 'Owais Nadeem', 'age': 21, 'grade': 82}\n"
          ]
        }
      ]
    },
    {
      "cell_type": "code",
      "source": [
        "# Task :- 05\n",
        "#           Create a multi-line string named \"poem\" with a short poem of your choice.\n",
        "# Solution of Task :- 05\n",
        "\n",
        "poem = '''Twinkle, twinkle, little star,\n",
        "How I wonder what you are!\n",
        "Up above the world so high,\n",
        "Like a diamond in the sky.\n",
        "Twinkle, twinkle, little star,\n",
        "How I wonder what you are!\n",
        "****\n",
        "When the blazing sun is gone,\n",
        "When he nothing shines upon,\n",
        "Then you show your little light,\n",
        "Twinkle, twinkle, all the night.\n",
        "Twinkle, twinkle, little star,\n",
        "How I wonder what you are!\n",
        "****\n",
        "Then the traveller in the dark,\n",
        "Thanks you for your tiny spark,\n",
        "He could not see which way to go,\n",
        "If you did not twinkle so.\n",
        "Twinkle, twinkle, little star,\n",
        "How I wonder what you are!\n",
        "****\n",
        "In the dark blue sky you keep,\n",
        "And often through my curtains peep,\n",
        "For you never shut your eye,\n",
        "Till the sun is in the sky.\n",
        "Twinkle, twinkle, little star,\n",
        "How I wonder what you are!\n",
        "****\n",
        "As your bright and tiny spark,\n",
        "Lights the traveller in the dark,—\n",
        "Though I know not what you are,\n",
        " Twinkle, twinkle, little star.\n",
        "Twinkle, twinkle, little star,\n",
        "How I wonder what you are!\n",
        "'''\n",
        "\n",
        "print(poem)"
      ],
      "metadata": {
        "colab": {
          "base_uri": "https://localhost:8080/"
        },
        "id": "fwhIWpVdQwLx",
        "outputId": "fa0ec78a-8d3b-4483-e7ba-3ba7e9a5efc6"
      },
      "execution_count": null,
      "outputs": [
        {
          "output_type": "stream",
          "name": "stdout",
          "text": [
            "Twinkle, twinkle, little star,\n",
            "How I wonder what you are!\n",
            "Up above the world so high,\n",
            "Like a diamond in the sky.\n",
            "Twinkle, twinkle, little star,\n",
            "How I wonder what you are!\n",
            "****\n",
            "When the blazing sun is gone,\n",
            "When he nothing shines upon,\n",
            "Then you show your little light,\n",
            "Twinkle, twinkle, all the night.\n",
            "Twinkle, twinkle, little star,\n",
            "How I wonder what you are!\n",
            "****\n",
            "Then the traveller in the dark,\n",
            "Thanks you for your tiny spark,\n",
            "He could not see which way to go,\n",
            "If you did not twinkle so.\n",
            "Twinkle, twinkle, little star,\n",
            "How I wonder what you are!\n",
            "****\n",
            "In the dark blue sky you keep,\n",
            "And often through my curtains peep,\n",
            "For you never shut your eye,\n",
            "Till the sun is in the sky.\n",
            "Twinkle, twinkle, little star,\n",
            "How I wonder what you are!\n",
            "****\n",
            "As your bright and tiny spark,\n",
            "Lights the traveller in the dark,—\n",
            "Though I know not what you are,\n",
            " Twinkle, twinkle, little star.\n",
            "Twinkle, twinkle, little star,\n",
            "How I wonder what you are! \n",
            "\n"
          ]
        }
      ]
    },
    {
      "cell_type": "code",
      "source": [
        "# Task :- 06\n",
        "#           Write an if statement to check if the length of the \"fruits\" list is greater than 3. If it\n",
        "#           is, print \"You have many fruits!\".\n",
        "# Solution of Task :- 06\n",
        "\n",
        "fruits = ['Mango' , 'Apple' , 'grapes' , 'Oranges' , ' Banana']\n",
        "\n",
        "if len(fruits) >3 :\n",
        "    print(\"You have many fruits\")\n",
        "else:\n",
        "    print(fruits)\n"
      ],
      "metadata": {
        "colab": {
          "base_uri": "https://localhost:8080/"
        },
        "id": "spklnZoDRlRI",
        "outputId": "75b2ac5e-4c9a-486e-a7d7-9f378277ea20"
      },
      "execution_count": 2,
      "outputs": [
        {
          "output_type": "stream",
          "name": "stdout",
          "text": [
            "You have many fruits\n"
          ]
        }
      ]
    }
  ]
}