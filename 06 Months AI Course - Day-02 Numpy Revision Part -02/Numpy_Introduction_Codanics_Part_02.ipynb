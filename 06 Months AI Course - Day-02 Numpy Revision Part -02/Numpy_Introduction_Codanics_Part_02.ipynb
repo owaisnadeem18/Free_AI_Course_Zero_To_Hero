{
  "nbformat": 4,
  "nbformat_minor": 0,
  "metadata": {
    "colab": {
      "provenance": []
    },
    "kernelspec": {
      "name": "python3",
      "display_name": "Python 3"
    },
    "language_info": {
      "name": "python"
    }
  },
  "cells": [
    {
      "cell_type": "code",
      "execution_count": null,
      "metadata": {
        "id": "P6RF9t39-KJd"
      },
      "outputs": [],
      "source": [
        "import numpy as np"
      ]
    },
    {
      "cell_type": "code",
      "source": [
        "empty = np.empty((2 , 3))\n",
        "print(empty)\n",
        "print(\"------------\")\n",
        "print(empty[1])"
      ],
      "metadata": {
        "colab": {
          "base_uri": "https://localhost:8080/"
        },
        "id": "FMwN7Q8n-a9j",
        "outputId": "db878f93-43d0-4c95-9df1-da695df03d2b"
      },
      "execution_count": 12,
      "outputs": [
        {
          "output_type": "stream",
          "name": "stdout",
          "text": [
            "[[5.05000238e-310 1.71215703e-052 1.77290800e+160]\n",
            " [4.46439186e-090 9.13151489e+169 6.58315227e-310]]\n",
            "------------\n",
            "[4.46439186e-090 9.13151489e+169 6.58315227e-310]\n"
          ]
        }
      ]
    },
    {
      "cell_type": "code",
      "source": [
        "# This code will create an array for us.\n",
        "\n",
        "a = np.arange(7)\n",
        "# a\n",
        "print(a)\n",
        "\n"
      ],
      "metadata": {
        "colab": {
          "base_uri": "https://localhost:8080/"
        },
        "id": "uAKGUwVk_RMi",
        "outputId": "6eb78f51-190a-433f-9139-58cbd22e8183"
      },
      "execution_count": 14,
      "outputs": [
        {
          "output_type": "stream",
          "name": "stdout",
          "text": [
            "[0 1 2 3 4 5 6]\n"
          ]
        }
      ]
    },
    {
      "cell_type": "code",
      "source": [
        "# create an array which has the even numbers inside it\n",
        "\n",
        "even = np.arange(2 , 21 , 2)\n",
        "# even\n",
        "print( \" The array of even numbers =\", even)"
      ],
      "metadata": {
        "colab": {
          "base_uri": "https://localhost:8080/"
        },
        "id": "WVaIIaI7Cvh6",
        "outputId": "6e0a36ab-4c44-4a8a-bf7c-b76ca2a82b81"
      },
      "execution_count": 21,
      "outputs": [
        {
          "output_type": "stream",
          "name": "stdout",
          "text": [
            " The array of even numbers = [ 2  4  6  8 10 12 14 16 18 20]\n"
          ]
        }
      ]
    },
    {
      "cell_type": "code",
      "source": [
        "# If you want to see some kind of linear sccend link between your array elements , then you can use linspace\n",
        "lin_Space = np.linspace(2 , 30 ,  num=10)\n",
        "lin_Space\n",
        "\n",
        "# It is showing the linear trend in a particular discipline"
      ],
      "metadata": {
        "colab": {
          "base_uri": "https://localhost:8080/"
        },
        "id": "FPaACg72CuSl",
        "outputId": "78649984-fb28-44a4-856f-784ec6104e20"
      },
      "execution_count": 23,
      "outputs": [
        {
          "output_type": "execute_result",
          "data": {
            "text/plain": [
              "array([ 2.        ,  5.11111111,  8.22222222, 11.33333333, 14.44444444,\n",
              "       17.55555556, 20.66666667, 23.77777778, 26.88888889, 30.        ])"
            ]
          },
          "metadata": {},
          "execution_count": 23
        }
      ]
    },
    {
      "cell_type": "markdown",
      "source": [
        "# How we can concatenate Two Different Arrays Using Numpy"
      ],
      "metadata": {
        "id": "j7Tr7YsyJ2fC"
      }
    },
    {
      "cell_type": "code",
      "source": [
        "arr1 = np.array([1,2,3,4,5,6])\n",
        "arr2 = np.array([3, 5 , 8 , 0 , 6 , 13])\n",
        "\n",
        "concatenate = np.concatenate((arr1 , arr2))\n",
        "concatenate"
      ],
      "metadata": {
        "colab": {
          "base_uri": "https://localhost:8080/"
        },
        "id": "dD91N_gkJ8kS",
        "outputId": "a450edbe-7704-4c4f-f9f0-f1ce5588eb06"
      },
      "execution_count": 28,
      "outputs": [
        {
          "output_type": "execute_result",
          "data": {
            "text/plain": [
              "array([ 1,  2,  3,  4,  5,  6,  3,  5,  8,  0,  6, 13])"
            ]
          },
          "metadata": {},
          "execution_count": 28
        }
      ]
    },
    {
      "cell_type": "markdown",
      "source": [
        "# Concatenating 2D Arrays"
      ],
      "metadata": {
        "id": "YLAXgO6fK31c"
      }
    },
    {
      "cell_type": "code",
      "source": [
        "twoD_Arr1 = np.array([[3 , 4 , 5 , 6] , [2 , 3 , 1 ,4]])\n",
        "twoD_Arr1\n",
        "print(\"Shape = \" , twoD_Arr1.shape)\n",
        "twoD_Arr2 = np.array([[45 , 89 , 32 , 13] , [3 , 90 , 42 , 34]])\n",
        "\n",
        "concat = np.concatenate((twoD_Arr1 , twoD_Arr2) , axis = 1) # 'axis=1' is used to concatenate two D arrays with each other\n",
        "print(concat)\n",
        "print(\"The length is ->\" ,len(concat))"
      ],
      "metadata": {
        "colab": {
          "base_uri": "https://localhost:8080/"
        },
        "id": "S6OOGQrXLyz9",
        "outputId": "8909fcf3-12bd-4a7e-b3dc-2356fd21b583"
      },
      "execution_count": 49,
      "outputs": [
        {
          "output_type": "stream",
          "name": "stdout",
          "text": [
            "Shape =  (2, 4)\n",
            "[[ 3  4  5  6 45 89 32 13]\n",
            " [ 2  3  1  4  3 90 42 34]]\n",
            "The length is -> 2\n"
          ]
        }
      ]
    },
    {
      "cell_type": "markdown",
      "source": [
        "# 3D Array"
      ],
      "metadata": {
        "id": "cGKZcIdKjT86"
      }
    },
    {
      "cell_type": "code",
      "source": [
        "# Creating a 3D Array\n",
        "array3D_example = np.array([[[0, 1, 2, 3],\n",
        "                           [4, 5, 6, 7]],\n",
        "\n",
        "                          [[0, 1, 2, 3],\n",
        "                           [4, 5, 6, 7]],\n",
        "\n",
        "                          [[0 ,1 ,2, 3],\n",
        "                           [4, 5, 6, 7]]])\n",
        "\n",
        "len(array3D_example)\n"
      ],
      "metadata": {
        "colab": {
          "base_uri": "https://localhost:8080/"
        },
        "id": "dUe5tkOdjV0z",
        "outputId": "4dcd8cf1-00b6-4ce5-ad49-0d0bd2fe6c04"
      },
      "execution_count": 44,
      "outputs": [
        {
          "output_type": "execute_result",
          "data": {
            "text/plain": [
              "3"
            ]
          },
          "metadata": {},
          "execution_count": 44
        }
      ]
    },
    {
      "cell_type": "code",
      "source": [
        "shape = array3D_example.shape\n",
        "print(\"The shape of this array is =\" , shape)\n",
        "print(\"The dimension of this array is\",array3D_example.ndim)"
      ],
      "metadata": {
        "colab": {
          "base_uri": "https://localhost:8080/"
        },
        "id": "VIcc6SsZkdXz",
        "outputId": "71614864-04c9-4127-bbe1-b334f74f76f8"
      },
      "execution_count": 59,
      "outputs": [
        {
          "output_type": "stream",
          "name": "stdout",
          "text": [
            "The shape of this array is = (3, 2, 4)\n",
            "The dimension of this array is 3\n"
          ]
        }
      ]
    },
    {
      "cell_type": "code",
      "source": [
        "# We can also reshape an arrray by writing the code:\n",
        "\n",
        "shape = array3D_example.reshape(3 , 2 , 4)\n",
        "print(shape)"
      ],
      "metadata": {
        "colab": {
          "base_uri": "https://localhost:8080/"
        },
        "id": "o2Jjam10nL3V",
        "outputId": "2b689355-d4f5-442d-fa4f-6865a0a430cb"
      },
      "execution_count": 77,
      "outputs": [
        {
          "output_type": "stream",
          "name": "stdout",
          "text": [
            "[[[0 1 2 3]\n",
            "  [4 5 6 7]]\n",
            "\n",
            " [[0 1 2 3]\n",
            "  [4 5 6 7]]\n",
            "\n",
            " [[0 1 2 3]\n",
            "  [4 5 6 7]]]\n"
          ]
        }
      ]
    },
    {
      "cell_type": "code",
      "source": [],
      "metadata": {
        "id": "_GEuAFo3oqv_"
      },
      "execution_count": null,
      "outputs": []
    }
  ]
}